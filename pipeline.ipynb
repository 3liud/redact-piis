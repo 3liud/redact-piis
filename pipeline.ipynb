{
 "cells": [
  {
   "cell_type": "code",
   "execution_count": 8,
   "metadata": {},
   "outputs": [
    {
     "name": "stderr",
     "output_type": "stream",
     "text": [
      "2024-09-03 06:19:07 +0300 - dagster - INFO - system - Original Data:\n",
      "2024-09-03 06:19:07 +0300 - dagster - INFO - system - Original Line 1: John Doe lives in New York.\n",
      "2024-09-03 06:19:07 +0300 - dagster - INFO - system - Original Line 2: Jane's email is jane.doe@example.com.\n",
      "2024-09-03 06:19:07 +0300 - dagster - INFO - system - Original Line 3: Juudas I think your address is 231, Muranga\n",
      "2024-09-03 06:19:07 +0300 - dagster - INFO - system - Original Line 4: She is 34 years old\n",
      "2024-09-03 06:19:07 +0300 - dagster - INFO - system - Processed Data:\n",
      "2024-09-03 06:19:07 +0300 - dagster - INFO - system - Processed Line 1: [REDACTED] [REDACTED] lives in [REDACTED] [REDACTED] .\n",
      "2024-09-03 06:19:07 +0300 - dagster - INFO - system - Processed Line 2: [REDACTED] 's email is [REDACTED] .\n",
      "2024-09-03 06:19:07 +0300 - dagster - INFO - system - Processed Line 3: [REDACTED] I think your address is 231 , [REDACTED]\n",
      "2024-09-03 06:19:07 +0300 - dagster - INFO - system - Processed Line 4: She is 34 years old\n",
      "2024-09-03 06:19:07 +0300 - dagster - INFO - system - Final Processed Line 1: [REDACTED] [REDACTED] lives in [REDACTED] [REDACTED] .\n",
      "2024-09-03 06:19:07 +0300 - dagster - INFO - system - Final Processed Line 2: [REDACTED] 's email is [REDACTED] .\n",
      "2024-09-03 06:19:07 +0300 - dagster - INFO - system - Final Processed Line 3: [REDACTED] I think your address is 231 , [REDACTED]\n",
      "2024-09-03 06:19:07 +0300 - dagster - INFO - system - Final Processed Line 4: She is 34 years old\n"
     ]
    },
    {
     "name": "stdout",
     "output_type": "stream",
     "text": [
      "Original Line 1: John Doe lives in New York.\n",
      "Original Line 2: Jane's email is jane.doe@example.com.\n",
      "Original Line 3: Juudas I think your address is 231, Muranga\n",
      "Original Line 4: She is 34 years old\n",
      "Processed Line 1: [REDACTED] [REDACTED] lives in [REDACTED] [REDACTED] .\n",
      "Processed Line 2: [REDACTED] 's email is [REDACTED] .\n",
      "Processed Line 3: [REDACTED] I think your address is 231 , [REDACTED]\n",
      "Processed Line 4: She is 34 years old\n",
      "\n",
      "Processed Data:\n",
      "[REDACTED] [REDACTED] lives in [REDACTED] [REDACTED] .\n",
      "[REDACTED] 's email is [REDACTED] .\n",
      "[REDACTED] I think your address is 231 , [REDACTED]\n",
      "She is 34 years old\n",
      "Final Processed Line 1: [REDACTED] [REDACTED] lives in [REDACTED] [REDACTED] .\n",
      "Final Processed Line 2: [REDACTED] 's email is [REDACTED] .\n",
      "Final Processed Line 3: [REDACTED] I think your address is 231 , [REDACTED]\n",
      "Final Processed Line 4: She is 34 years old\n"
     ]
    },
    {
     "data": {
      "text/plain": [
       "['[REDACTED] [REDACTED] lives in [REDACTED] [REDACTED] .',\n",
       " \"[REDACTED] 's email is [REDACTED] .\",\n",
       " '[REDACTED] I think your address is 231 , [REDACTED]',\n",
       " 'She is 34 years old']"
      ]
     },
     "execution_count": 8,
     "metadata": {},
     "output_type": "execute_result"
    }
   ],
   "source": [
    "import re\n",
    "import spacy\n",
    "from dagster import op, Out, build_op_context\n",
    "\n",
    "# Load the SpaCy model\n",
    "nlp = spacy.load(\"en_core_web_sm\")\n",
    "\n",
    "# Regular expression pattern to detect email addresses\n",
    "EMAIL_PATTERN = re.compile(r\"\\b[A-Za-z0-9._%+-]+@[A-Za-z0-9.-]+\\.[A-Z|a-z]{2,}\\b\")\n",
    "\n",
    "\n",
    "# Op to load data\n",
    "@op\n",
    "def load_data(context):\n",
    "    data = [\n",
    "        \"John Doe lives in New York.\",\n",
    "        \"Jane's email is jane.doe@example.com.\",\n",
    "        \"Juudas I think your address is 231, Muranga\",\n",
    "        \"She is 34 years old\",\n",
    "    ]\n",
    "    context.log.info(\"Original Data:\")\n",
    "    for idx, line in enumerate(data):\n",
    "        context.log.info(f\"Original Line {idx+1}: {line}\")\n",
    "        print(f\"Original Line {idx+1}: {line}\")\n",
    "    return data\n",
    "\n",
    "\n",
    "# Op to apply NER for PII detection\n",
    "@op(out=Out())\n",
    "def detect_pii(context, data):\n",
    "    processed_data = []\n",
    "    for doc in data:\n",
    "        # First pass: Apply the NER model\n",
    "        ner_doc = nlp(doc)\n",
    "        redacted_doc = \"\"\n",
    "        for token in ner_doc:\n",
    "            if token.ent_type_ in [\"PERSON\", \"GPE\", \"EMAIL\", \"ORG\"]:\n",
    "                redacted_doc += \"[REDACTED] \"\n",
    "            else:\n",
    "                redacted_doc += token.text + \" \"\n",
    "\n",
    "        # Second pass: Use regex to find and redact emails\n",
    "        redacted_doc = re.sub(EMAIL_PATTERN, \"[REDACTED]\", redacted_doc)\n",
    "\n",
    "        processed_data.append(redacted_doc.strip())\n",
    "\n",
    "    context.log.info(\"Processed Data:\")\n",
    "    for idx, line in enumerate(processed_data):\n",
    "        context.log.info(f\"Processed Line {idx+1}: {line}\")\n",
    "        print(f\"Processed Line {idx+1}: {line}\")\n",
    "\n",
    "    return processed_data\n",
    "\n",
    "\n",
    "# Op to save or output the processed data\n",
    "@op(out=Out())\n",
    "def save_data(context, processed_data):\n",
    "    for idx, line in enumerate(processed_data):\n",
    "        context.log.info(f\"Final Processed Line {idx+1}: {line}\")\n",
    "        print(f\"Final Processed Line {idx+1}: {line}\")\n",
    "    return processed_data\n",
    "\n",
    "\n",
    "# Create a context for the ops\n",
    "context = build_op_context()\n",
    "\n",
    "# Load the original data\n",
    "original_data = load_data(context)\n",
    "\n",
    "# Process the data to detect and redact PII\n",
    "processed_data = detect_pii(context, data=original_data)\n",
    "\n",
    "# Display the processed data\n",
    "print(\"\\nProcessed Data:\")\n",
    "for line in processed_data:\n",
    "    print(line)\n",
    "\n",
    "# Final save/output step (for demonstration purposes, it just prints the data)\n",
    "save_data(context, processed_data=processed_data)\n"
   ]
  },
  {
   "cell_type": "code",
   "execution_count": null,
   "metadata": {},
   "outputs": [],
   "source": []
  }
 ],
 "metadata": {
  "kernelspec": {
   "display_name": "dagster.Env",
   "language": "python",
   "name": "python3"
  },
  "language_info": {
   "codemirror_mode": {
    "name": "ipython",
    "version": 3
   },
   "file_extension": ".py",
   "mimetype": "text/x-python",
   "name": "python",
   "nbconvert_exporter": "python",
   "pygments_lexer": "ipython3",
   "version": "3.12.0"
  }
 },
 "nbformat": 4,
 "nbformat_minor": 2
}
